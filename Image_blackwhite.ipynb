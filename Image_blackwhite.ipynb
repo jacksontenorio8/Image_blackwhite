{
  "nbformat": 4,
  "nbformat_minor": 0,
  "metadata": {
    "colab": {
      "provenance": [],
      "mount_file_id": "1h3wOEcZCYqqyUHjvvSuQ7N0IZ8rJK6JO",
      "authorship_tag": "ABX9TyNspmeMqDKvMwkX2ALhgCWn",
      "include_colab_link": true
    },
    "kernelspec": {
      "name": "python3",
      "display_name": "Python 3"
    },
    "language_info": {
      "name": "python"
    }
  },
  "cells": [
    {
      "cell_type": "markdown",
      "metadata": {
        "id": "view-in-github",
        "colab_type": "text"
      },
      "source": [
        "<a href=\"https://colab.research.google.com/github/jacksontenorio8/Image_blackwhite/blob/main/Image_blackwhite.ipynb\" target=\"_parent\"><img src=\"https://colab.research.google.com/assets/colab-badge.svg\" alt=\"Open In Colab\"/></a>"
      ]
    },
    {
      "cell_type": "code",
      "execution_count": 6,
      "metadata": {
        "id": "kMDoiqfJq5kW"
      },
      "outputs": [],
      "source": [
        "from PIL import Image\n",
        "img = Image.open('/content/drive/MyDrive/Image/loira.jpg').convert('L')\n",
        "img.save('loira_grey.png')"
      ]
    },
    {
      "cell_type": "markdown",
      "source": [],
      "metadata": {
        "id": "nx6qJ9o9zpBp"
      }
    },
    {
      "cell_type": "code",
      "source": [
        "col = Image.open('/content/drive/MyDrive/Image/loira.jpg')\n",
        "gray = col.convert('L')\n",
        "bw = gray.point(lambda x: 0 if x<128 else 255, '1')\n",
        "bw.save(\"loira_bn.png\")"
      ],
      "metadata": {
        "id": "znDot--B4ExU"
      },
      "execution_count": 8,
      "outputs": []
    }
  ]
}